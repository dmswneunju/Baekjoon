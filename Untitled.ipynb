{
 "cells": [
  {
   "cell_type": "markdown",
   "id": "962b9d9a",
   "metadata": {},
   "source": [
    "## 4344"
   ]
  },
  {
   "cell_type": "code",
   "execution_count": 7,
   "id": "4a28cd10",
   "metadata": {},
   "outputs": [
    {
     "name": "stdout",
     "output_type": "stream",
     "text": [
      "5\n",
      "5 50 50 70 80 100\n",
      "40.0%\n",
      "7 100 95 90 80 70 60 50\n",
      "57.143%\n",
      "3 70 90 80\n",
      "33.333%\n",
      "3 70 90 81\n",
      "66.667%\n",
      "9 100 99 98 97 96 95 94 93 91\n",
      "55.556%\n"
     ]
    }
   ],
   "source": [
    "n = int(input())\n",
    "\n",
    "for i in range(n):\n",
    "    a = list(map(int, input().split()))\n",
    "    sum = 0\n",
    "    for j in range(1, len(a)): # range(1, 6) : 1 ~ 5까지\n",
    "        sum += a[j]\n",
    "        \n",
    "    ave = sum/a[0]\n",
    "    count = 0\n",
    "    for p in range(1, len(a)):\n",
    "        if a[p] > ave :\n",
    "            count += 1\n",
    "        else :\n",
    "            continue\n",
    "        \n",
    "    a2 = round((count/(len(a)-1))*100, 3)\n",
    "    print(f\"{a2}%\")"
   ]
  },
  {
   "cell_type": "code",
   "execution_count": null,
   "id": "2edfcdc4",
   "metadata": {},
   "outputs": [],
   "source": []
  },
  {
   "cell_type": "markdown",
   "id": "15eb429b",
   "metadata": {},
   "source": [
    "## 10817"
   ]
  },
  {
   "cell_type": "code",
   "execution_count": 31,
   "id": "5cf05e31",
   "metadata": {},
   "outputs": [
    {
     "name": "stdout",
     "output_type": "stream",
     "text": [
      "40 40 40\n",
      "40\n"
     ]
    }
   ],
   "source": [
    "a, b, c = map(int, input().split())\n",
    "\n",
    "if a >= b:\n",
    "    if a >= c:\n",
    "        if b >= c :\n",
    "            print(b)\n",
    "        else:\n",
    "            print(c)\n",
    "    else :\n",
    "        print(a)\n",
    "else:\n",
    "    if b >= c:\n",
    "        if c >= a:\n",
    "            print(c)\n",
    "        else :\n",
    "            print(a)\n",
    "    else:\n",
    "        print(b)\n",
    "        "
   ]
  },
  {
   "cell_type": "code",
   "execution_count": null,
   "id": "544af001",
   "metadata": {},
   "outputs": [],
   "source": []
  },
  {
   "cell_type": "markdown",
   "id": "f4d8d732",
   "metadata": {},
   "source": [
    "## 1152"
   ]
  },
  {
   "cell_type": "code",
   "execution_count": 38,
   "id": "97c9bcb0",
   "metadata": {},
   "outputs": [
    {
     "name": "stdout",
     "output_type": "stream",
     "text": [
      "a = list(map(str, input().split()))  print(len(a))\n",
      "['a', '=', 'list(map(str,', 'input().split()))', 'print(len(a))']\n",
      "5\n"
     ]
    }
   ],
   "source": [
    "a = input().split()\n",
    "print(a)\n",
    "print(len(a))"
   ]
  },
  {
   "cell_type": "markdown",
   "id": "75f3146e",
   "metadata": {},
   "source": []
  },
  {
   "cell_type": "markdown",
   "id": "698af673",
   "metadata": {},
   "source": [
    "## 2869"
   ]
  },
  {
   "cell_type": "code",
   "execution_count": 17,
   "id": "bfb1f244",
   "metadata": {},
   "outputs": [
    {
     "name": "stdout",
     "output_type": "stream",
     "text": [
      "100 99 1000000000\n",
      "999999901\n"
     ]
    }
   ],
   "source": [
    "import math # 실수일때 올림\n",
    "\n",
    "a, b, v = map(int, input().split())\n",
    "\n",
    "day = (v-b)/(a-b)\n",
    "print(math.ceil(day))"
   ]
  },
  {
   "cell_type": "code",
   "execution_count": null,
   "id": "0adaa5f6",
   "metadata": {},
   "outputs": [],
   "source": []
  },
  {
   "cell_type": "markdown",
   "id": "a6c2a5cb",
   "metadata": {},
   "source": [
    "## 1978"
   ]
  },
  {
   "cell_type": "code",
   "execution_count": 24,
   "id": "477e2c4e",
   "metadata": {},
   "outputs": [
    {
     "name": "stdout",
     "output_type": "stream",
     "text": [
      "4\n",
      "1 3 5 7\n",
      "3\n"
     ]
    }
   ],
   "source": [
    "n = int(input())\n",
    "a = list(map(int, input().split()))\n",
    "\n",
    "count = 0\n",
    "for i in a:\n",
    "    for j in range(2,i+1):\n",
    "        if i % j == 0:\n",
    "            if i == j:\n",
    "                count += 1\n",
    "        break\n",
    "            \n",
    "print(count)"
   ]
  },
  {
   "cell_type": "code",
   "execution_count": null,
   "id": "acd72cf0",
   "metadata": {},
   "outputs": [],
   "source": []
  },
  {
   "cell_type": "markdown",
   "id": "f662d697",
   "metadata": {},
   "source": [
    "## 10872"
   ]
  },
  {
   "cell_type": "code",
   "execution_count": 46,
   "id": "abe7b113",
   "metadata": {},
   "outputs": [
    {
     "name": "stdout",
     "output_type": "stream",
     "text": [
      "0\n"
     ]
    },
    {
     "data": {
      "text/plain": [
       "1"
      ]
     },
     "execution_count": 46,
     "metadata": {},
     "output_type": "execute_result"
    }
   ],
   "source": [
    "def cal(n):\n",
    "    if n > 0:\n",
    "        return n * cal(n-1)\n",
    "    else:\n",
    "        return 1\n",
    "\n",
    "n = int(input())\n",
    "print(cal(n))"
   ]
  },
  {
   "cell_type": "code",
   "execution_count": null,
   "id": "ac936b68",
   "metadata": {},
   "outputs": [],
   "source": []
  },
  {
   "cell_type": "markdown",
   "id": "6dfb0ff5",
   "metadata": {},
   "source": [
    "## 1914"
   ]
  },
  {
   "cell_type": "code",
   "execution_count": 10,
   "id": "cc204d85",
   "metadata": {},
   "outputs": [
    {
     "name": "stdout",
     "output_type": "stream",
     "text": [
      "23\n",
      "8388607\n"
     ]
    }
   ],
   "source": [
    "def hanoi(n, start, to, finish):\n",
    "    if n == 1:\n",
    "        print(f'{start} {finish}')\n",
    "        return \n",
    "    \n",
    "    hanoi(n-1, start, finish, to)\n",
    "    print(f'{start} {finish}')\n",
    "    hanoi(n-1, to, start, finish)\n",
    "\n",
    "n = int(input())\n",
    "print(2**n-1)\n",
    "if n <= 20:\n",
    "    hanoi(n, 1, 2, 3)"
   ]
  },
  {
   "cell_type": "code",
   "execution_count": 6,
   "id": "60311efd",
   "metadata": {},
   "outputs": [
    {
     "name": "stdout",
     "output_type": "stream",
     "text": [
      "3\n",
      "7\n",
      "1 3\n",
      "1 2\n",
      "3 2\n",
      "1 3\n",
      "2 1\n",
      "2 3\n",
      "1 3\n"
     ]
    }
   ],
   "source": [
    "n = int(input())\n",
    "\n",
    "l = []\n",
    "def move(start, finish):\n",
    "    l.append([start, finish])\n",
    "    \n",
    "def hanoi(n, start, to, finish):\n",
    "    if n == 1:\n",
    "        move(start, finish)\n",
    "    else:\n",
    "        hanoi(n-1, start, finish, to)\n",
    "        move(start, finish)\n",
    "        hanoi(n-1, to, start, finish)\n",
    "        \n",
    "hanoi(n, 1, 2, 3)\n",
    "print(len(l))\n",
    "for i in range(len(l)):\n",
    "    print(l[i][0], l[i][1])"
   ]
  },
  {
   "cell_type": "code",
   "execution_count": 5,
   "id": "a4ff272e",
   "metadata": {},
   "outputs": [
    {
     "name": "stdout",
     "output_type": "stream",
     "text": [
      "1 3\n"
     ]
    }
   ],
   "source": [
    "print(l[0][0], l[0][1])"
   ]
  },
  {
   "cell_type": "code",
   "execution_count": null,
   "id": "e401eaa1",
   "metadata": {},
   "outputs": [],
   "source": []
  },
  {
   "cell_type": "markdown",
   "id": "c1a38074",
   "metadata": {},
   "source": [
    "## 9663"
   ]
  },
  {
   "cell_type": "code",
   "execution_count": 12,
   "id": "30c1acc9",
   "metadata": {},
   "outputs": [
    {
     "name": "stdout",
     "output_type": "stream",
     "text": [
      "5\n",
      "[[0, 0, 0, 0, 0], [0, 0, 0, 0, 0], [0, 0, 0, 0, 0], [0, 0, 0, 0, 0], [0, 0, 0, 0, 0]]\n"
     ]
    }
   ],
   "source": [
    "n = int(input())\n",
    "\n",
    "lines = []\n",
    "for _ in range(n):\n",
    "    line = []\n",
    "    for _ in range(n):\n",
    "        line.append(0)\n",
    "    lines.append(line)\n",
    "print(lines)\n",
    "\n",
    "for i in range(n):\n",
    "    for j in range(n):\n",
    "        if lines[i][j] != 1:\n",
    "            lines[i][j] == 1\n",
    "            \n",
    "        \n",
    "                \n",
    "        \n",
    "            "
   ]
  },
  {
   "cell_type": "code",
   "execution_count": 14,
   "id": "10a14c7f",
   "metadata": {},
   "outputs": [
    {
     "data": {
      "text/plain": [
       "[0, 0, 0, 0, 0]"
      ]
     },
     "execution_count": 14,
     "metadata": {},
     "output_type": "execute_result"
    }
   ],
   "source": [
    "lines[0]"
   ]
  },
  {
   "cell_type": "code",
   "execution_count": null,
   "id": "7f89b3dd",
   "metadata": {},
   "outputs": [],
   "source": []
  }
 ],
 "metadata": {
  "kernelspec": {
   "display_name": "practice",
   "language": "python",
   "name": "practice"
  },
  "language_info": {
   "codemirror_mode": {
    "name": "ipython",
    "version": 3
   },
   "file_extension": ".py",
   "mimetype": "text/x-python",
   "name": "python",
   "nbconvert_exporter": "python",
   "pygments_lexer": "ipython3",
   "version": "3.7.16"
  }
 },
 "nbformat": 4,
 "nbformat_minor": 5
}
